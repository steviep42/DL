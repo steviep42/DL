{
 "cells": [
  {
   "cell_type": "markdown",
   "id": "0b4e0800-4dd5-431d-85d7-b4b7cfd1d296",
   "metadata": {},
   "source": [
    "# Deep Learning Frameworks\n",
    "\n",
    "There are a number of Deep Learning frameworks with Google's Tensorflow being one of the more popualr ones. It's been around for a while and is actively developed. The initial version was released in 2015 with the most recent version 2.0 being released in 2019. From the Wikipedia page:\n",
    "\n",
    "```\n",
    "TensorFlow can be used in a wide variety of programming languages, including Python, JavaScript, C++, and Java.[12] This flexibility lends itself to a range of applications in many different sectors. \n",
    "```\n",
    "\n",
    "<img src=\"./PICS/google_trends.png\" style=\"height: 200px;\">\n",
    "\n",
    "Part of the reason Tensorflow is useful is that it can work with GPUs and TPUs which are processing devices provided by Google cloud. As afar \n",
    "\n",
    "\n",
    "\n",
    "## Keras\n",
    "\n",
    "\n",
    "Exascale machine learning.\n",
    "\n",
    "Built on top of TensorFlow 2, Keras is an industry-strength framework that can scale to large clusters of GPUs or an entire TPU pod. It's not only possible; it's easy.\n"
   ]
  },
  {
   "cell_type": "code",
   "execution_count": null,
   "id": "e38fbaac-cd5e-461d-a625-1a7932fff3dd",
   "metadata": {},
   "outputs": [],
   "source": []
  }
 ],
 "metadata": {
  "kernelspec": {
   "display_name": "Python 3 (ipykernel)",
   "language": "python",
   "name": "python3"
  },
  "language_info": {
   "codemirror_mode": {
    "name": "ipython",
    "version": 3
   },
   "file_extension": ".py",
   "mimetype": "text/x-python",
   "name": "python",
   "nbconvert_exporter": "python",
   "pygments_lexer": "ipython3",
   "version": "3.9.12"
  }
 },
 "nbformat": 4,
 "nbformat_minor": 5
}
